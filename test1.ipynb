{
 "cells": [
  {
   "cell_type": "code",
   "execution_count": 2,
   "id": "initial_id",
   "metadata": {
    "collapsed": true,
    "ExecuteTime": {
     "end_time": "2023-11-11T16:20:51.254646700Z",
     "start_time": "2023-11-11T16:20:51.235693400Z"
    }
   },
   "outputs": [],
   "source": [
    "import pandas as pd\n",
    "import numpy as np\n",
    "import seaborn as sns\n",
    "from matplotlib import pyplot as plt\n",
    "import os"
   ]
  },
  {
   "cell_type": "code",
   "execution_count": 7,
   "outputs": [],
   "source": [
    "label, data = [], []\n",
    "\n",
    "for class_name in os.listdir(r'C:\\a-dev\\a_study\\dataset'):\n",
    "    for path in os.listdir(fr'C:\\a-dev\\a_study\\dataset\\{class_name}'):\n",
    "        img_path = os.path.join(fr'C:\\a-dev\\a_study\\dataset\\{class_name}\\{path}')\n",
    "        data.append(img_path)\n",
    "        label.append(class_name)"
   ],
   "metadata": {
    "collapsed": false,
    "ExecuteTime": {
     "end_time": "2023-11-11T16:25:23.664090800Z",
     "start_time": "2023-11-11T16:25:23.608238200Z"
    }
   },
   "id": "c9a8b8630a664396"
  },
  {
   "cell_type": "code",
   "execution_count": 9,
   "outputs": [],
   "source": [
    "df = pd.DataFrame({'data': data, 'label': label})"
   ],
   "metadata": {
    "collapsed": false,
    "ExecuteTime": {
     "end_time": "2023-11-11T16:25:52.566816700Z",
     "start_time": "2023-11-11T16:25:52.548481400Z"
    }
   },
   "id": "de3daed162119d15"
  },
  {
   "cell_type": "code",
   "execution_count": 36,
   "outputs": [
    {
     "data": {
      "text/plain": "Index(['penyakit', 'hama', 'normal'], dtype='object', name='label')"
     },
     "execution_count": 36,
     "metadata": {},
     "output_type": "execute_result"
    }
   ],
   "source": [
    "df['label'].value_counts().index"
   ],
   "metadata": {
    "collapsed": false,
    "ExecuteTime": {
     "end_time": "2023-11-11T16:41:40.800426400Z",
     "start_time": "2023-11-11T16:41:40.734034900Z"
    }
   },
   "id": "f9ddb66da9bb20a5"
  },
  {
   "cell_type": "code",
   "execution_count": 38,
   "outputs": [
    {
     "data": {
      "text/plain": "label\npenyakit    8030\nhama        5790\nnormal      2405\nName: count, dtype: int64"
     },
     "execution_count": 38,
     "metadata": {},
     "output_type": "execute_result"
    }
   ],
   "source": [
    "df['label'].value_counts()"
   ],
   "metadata": {
    "collapsed": false,
    "ExecuteTime": {
     "end_time": "2023-11-11T16:41:44.479629700Z",
     "start_time": "2023-11-11T16:41:44.465666200Z"
    }
   },
   "id": "eb0978dd28f28267"
  },
  {
   "cell_type": "code",
   "execution_count": 51,
   "outputs": [
    {
     "data": {
      "text/plain": "16225"
     },
     "execution_count": 51,
     "metadata": {},
     "output_type": "execute_result"
    }
   ],
   "source": [
    "total = df['label'].value_counts().sum()\n",
    "total"
   ],
   "metadata": {
    "collapsed": false,
    "ExecuteTime": {
     "end_time": "2023-11-11T16:51:39.634991Z",
     "start_time": "2023-11-11T16:51:39.615043Z"
    }
   },
   "id": "d4c1b50d710520af"
  },
  {
   "cell_type": "code",
   "execution_count": 63,
   "outputs": [],
   "source": [
    "def fmt(input):\n",
    "    return \"{:.1f}%\\n{:}\".format(input, str(int(total*input))[:-2] + \" citra\")"
   ],
   "metadata": {
    "collapsed": false,
    "ExecuteTime": {
     "end_time": "2023-11-11T16:53:41.026673100Z",
     "start_time": "2023-11-11T16:53:41.013709800Z"
    }
   },
   "id": "473e3e4bf3143af0"
  },
  {
   "cell_type": "code",
   "execution_count": 64,
   "outputs": [
    {
     "data": {
      "text/plain": "<Figure size 640x480 with 1 Axes>",
      "image/png": "[encoded data removed]"
     },
     "metadata": {},
     "output_type": "display_data"
    }
   ],
   "source": [
    "palette = sns.palettes.color_palette('dark')\n",
    "plt.rcParams['text.color'] = 'black'\n",
    "plt.pie(df['label'].value_counts(), labels=df['label'].value_counts().index, autopct=fmt)\n",
    "plt.show()"
   ],
   "metadata": {
    "collapsed": false,
    "ExecuteTime": {
     "end_time": "2023-11-11T16:53:41.503902500Z",
     "start_time": "2023-11-11T16:53:41.404169600Z"
    }
   },
   "id": "e41c16e919a39836"
  },
  {
   "cell_type": "code",
   "execution_count": 49,
   "outputs": [],
   "source": [],
   "metadata": {
    "collapsed": false,
    "ExecuteTime": {
     "end_time": "2023-11-11T16:47:13.825982500Z",
     "start_time": "2023-11-11T16:47:13.806037800Z"
    }
   },
   "id": "b5e7a178e92cdce0"
  },
  {
   "cell_type": "code",
   "execution_count": null,
   "outputs": [],
   "source": [],
   "metadata": {
    "collapsed": false
   },
   "id": "5536069c63d6c825"
  }
 ],
 "metadata": {
  "kernelspec": {
   "display_name": "Python 3",
   "language": "python",
   "name": "python3"
  },
  "language_info": {
   "codemirror_mode": {
    "name": "ipython",
    "version": 2
   },
   "file_extension": ".py",
   "mimetype": "text/x-python",
   "name": "python",
   "nbconvert_exporter": "python",
   "pygments_lexer": "ipython2",
   "version": "2.7.6"
  }
 },
 "nbformat": 4,
 "nbformat_minor": 5
}
