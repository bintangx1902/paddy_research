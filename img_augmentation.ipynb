{
 "cells": [
  {
   "cell_type": "code",
   "execution_count": 16,
   "id": "initial_id",
   "metadata": {
    "collapsed": true,
    "ExecuteTime": {
     "end_time": "2023-11-11T17:08:38.545842700Z",
     "start_time": "2023-11-11T17:08:38.478731900Z"
    }
   },
   "outputs": [],
   "source": [
    "import tensorflow as tf\n",
    "from tensorflow import keras\n",
    "import keras\n",
    "import os\n",
    "import cv2 as cv"
   ]
  },
  {
   "cell_type": "code",
   "execution_count": 66,
   "outputs": [],
   "source": [
    "aug = keras.preprocessing.image.ImageDataGenerator(\n",
    "    rotation_range=45,\n",
    "    fill_mode=\"wrap\",\n",
    "    zoom_range=.5,\n",
    "    shear_range=.35,\n",
    "    brightness_range=(.7, 1.5)\n",
    ")"
   ],
   "metadata": {
    "collapsed": false,
    "ExecuteTime": {
     "end_time": "2023-11-11T17:24:50.853910700Z",
     "start_time": "2023-11-11T17:24:50.819003Z"
    }
   },
   "id": "22436c968265a50e"
  },
  {
   "cell_type": "code",
   "execution_count": 67,
   "outputs": [],
   "source": [
    "img = keras.utils.load_img(r'C:\\a-dev\\a_study\\dataset\\normal\\PDD09832.jpg')\n",
    "x = keras.utils.img_to_array(img)\n",
    "\n",
    "x = x.reshape((1,) + x.shape)"
   ],
   "metadata": {
    "collapsed": false,
    "ExecuteTime": {
     "end_time": "2023-11-11T17:24:50.862887Z",
     "start_time": "2023-11-11T17:24:50.833971300Z"
    }
   },
   "id": "ce172f8ec699c05c"
  },
  {
   "cell_type": "code",
   "execution_count": 68,
   "outputs": [],
   "source": [
    "i = 0\n",
    "for bat in aug.flow(x, batch_size=1, save_to_dir='./dataset/aug', save_prefix='normal', save_format='jpg'):\n",
    "    i += 1\n",
    "    if i >= 40:\n",
    "        break"
   ],
   "metadata": {
    "collapsed": false,
    "ExecuteTime": {
     "end_time": "2023-11-11T17:24:54.696799900Z",
     "start_time": "2023-11-11T17:24:50.844934800Z"
    }
   },
   "id": "696db6e9c86294e3"
  },
  {
   "cell_type": "code",
   "execution_count": 68,
   "outputs": [],
   "source": [],
   "metadata": {
    "collapsed": false,
    "ExecuteTime": {
     "end_time": "2023-11-11T17:24:54.696799900Z",
     "start_time": "2023-11-11T17:24:54.653914600Z"
    }
   },
   "id": "6d3f162ad8e025a9"
  },
  {
   "cell_type": "code",
   "execution_count": null,
   "outputs": [],
   "source": [],
   "metadata": {
    "collapsed": false
   },
   "id": "f63176f4f290a5fc"
  }
 ],
 "metadata": {
  "kernelspec": {
   "display_name": "Python 3",
   "language": "python",
   "name": "python3"
  },
  "language_info": {
   "codemirror_mode": {
    "name": "ipython",
    "version": 2
   },
   "file_extension": ".py",
   "mimetype": "text/x-python",
   "name": "python",
   "nbconvert_exporter": "python",
   "pygments_lexer": "ipython2",
   "version": "2.7.6"
  }
 },
 "nbformat": 4,
 "nbformat_minor": 5
}
